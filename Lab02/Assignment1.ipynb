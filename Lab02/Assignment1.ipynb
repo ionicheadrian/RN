{
 "cells": [
  {
   "cell_type": "markdown",
   "metadata": {},
   "source": [
    "<a target=\"_blank\" href=\"https://colab.research.google.com/github/Tensor-Reloaded/Neural-Networks-Template-2025/blob/main/Lab02/Assignment1.ipynb\">\n",
    "  <img src=\"https://colab.research.google.com/assets/colab-badge.svg\" alt=\"Open In Colab\"/>\n",
    "</a>"
   ]
  },
  {
   "cell_type": "markdown",
   "metadata": {},
   "source": [
    "# **Assignment 1 (10 points)**"
   ]
  },
  {
   "cell_type": "markdown",
   "metadata": {
    "vscode": {
     "languageId": "plaintext"
    }
   },
   "source": [
    "## **Solving a linear system in python**"
   ]
  },
  {
   "cell_type": "markdown",
   "metadata": {
    "vscode": {
     "languageId": "plaintext"
    }
   },
   "source": [
    "In this homework, you will familiarize yourself with key linear algebra con-\n",
    "cepts and Python programming by solving a system of linear equations. You\n",
    "will explore multiple methods for solving such systems, including Cramer’s rule\n",
    "and matrix inversion. By the end of this assignment, you will have a good un-\n",
    "derstanding of how to represent and manipulate matrices and vectors in Python."
   ]
  },
  {
   "cell_type": "markdown",
   "metadata": {
    "vscode": {
     "languageId": "plaintext"
    }
   },
   "source": [
    "We begin with the following system of 3 linear equations with 3 unknowns:\n",
    "$$ 2x + 3y - z = 5 $$\n",
    "$$ x - y + 4z = 6 $$\n",
    "$$ 3x + y + 2z = 7 $$\n",
    "\n",
    "This system can be vectorized in the following form:\n",
    "$$ A \\cdot X = B $$\n",
    "where:\n",
    "$$\n",
    "A = \\begin{bmatrix}\n",
    "2 & 3 & -1 \\\\\n",
    "1 & -1 & 4 \\\\\n",
    "3 & 1 & 2\n",
    "\\end{bmatrix}, \\quad \n",
    "X = \\begin{bmatrix}\n",
    "x \\\\\n",
    "y \\\\\n",
    "z\n",
    "\\end{bmatrix}, \\quad \n",
    "B = \\begin{bmatrix}\n",
    "5 \\\\\n",
    "6 \\\\\n",
    "7\n",
    "\\end{bmatrix}\n",
    "$$\n",
    "\n",
    "**Considerations**\n",
    "- do not use any linear algebra framework such as $numpy$\n",
    "- use python lists as data structures for matrices and vectors\n",
    "- experiment with other values for the coefficients and free terms"
   ]
  },
  {
   "cell_type": "markdown",
   "metadata": {
    "vscode": {
     "languageId": "plaintext"
    }
   },
   "source": [
    "### **1. Parsing the System of Equations (1 point)**"
   ]
  },
  {
   "cell_type": "markdown",
   "metadata": {
    "vscode": {
     "languageId": "plaintext"
    }
   },
   "source": [
    "The first task is to implement a Python script that reads a system of linear equations from a text file and parses it into a matrix $A$ and a vector $B$. You will use the input format described below to extract the coefficients for $A$ and $B$.\n",
    "\n",
    "**Input File Format**\n",
    "```text\n",
    "2x + 3y - z = 5\n",
    "x - y + 4z = 6\n",
    "3x + y + 2z = 7\n",
    "```\n",
    "\n",
    "Note that the coefficients are always in the order x, y and z and the terms are always space separated"
   ]
  },
  {
   "cell_type": "code",
   "execution_count": 62,
   "metadata": {},
   "outputs": [
    {
     "name": "stdout",
     "output_type": "stream",
     "text": [
      "A=[[7.0, 4.0, -1.0], [1.0, -1.0, 4.0], [3.0, 1.0, 2.0]] B=[5.0, 6.0, 7.0]\n"
     ]
    }
   ],
   "source": [
    "import pathlib\n",
    "\n",
    "def load_system(path: pathlib.Path) -> tuple[list[list[float]], list[float]]:\n",
    "    A = []\n",
    "    B = []\n",
    "    \n",
    "    f = open(path, 'r')\n",
    "    for linie in f:\n",
    "        #Prelucram termenii pentru fiecare linie\n",
    "        st,dr = linie.strip().split('=')\n",
    "        B.append(float(dr.strip()))\n",
    "        #Acum B are termenul din DREAPTA egalului\n",
    "\n",
    "        #Prelucram termanii din STANGA egalului\n",
    "        #stocand coeficientii intr-o lista\n",
    "\n",
    "       \n",
    "        coeficienti = [0.0,0.0,0.0]\n",
    "\n",
    "        termeni = st.replace('-','+-').split('+')\n",
    "        \n",
    "        for i in termeni:\n",
    "            if 'x' in i: #suntem la termenul care il contine pe X\n",
    "                coef = i.replace('x','').strip()\n",
    "                if coef and coef!='-': #daca nu este null si are coeficient, il salvam\n",
    "                    coeficienti[0] = float(coef)\n",
    "                else:\n",
    "                    if coef!='-':   #daca nu are coeficient... welp este 1 :)\n",
    "                        coeficienti[0]= 1.0\n",
    "                    else:\n",
    "                        coeficienti[0]= -1.0\n",
    "                        \n",
    "            elif 'y' in i:\n",
    "                coef = i.replace('y','').strip()\n",
    "                if coef and coef!='-':\n",
    "                    coeficienti[1] = float(coef)\n",
    "                else:\n",
    "                    if coef!='-':\n",
    "                        coeficienti[1]= 1.0\n",
    "                    else:\n",
    "                        coeficienti[1]= -1.0\n",
    "            elif 'z' in i:\n",
    "                coef = i.replace('z','').strip()\n",
    "                if coef and coef!='-':\n",
    "                    coeficienti[2] = float(coef)\n",
    "                else:\n",
    "                    if coef!='-':\n",
    "                        coeficienti[2]= 1.0\n",
    "                    else:\n",
    "                        coeficienti[2]= -1.0\n",
    "        A.append(coeficienti)\n",
    "        \n",
    "    f.close()\n",
    "    return A,B\n",
    "\n",
    "A, B = load_system(pathlib.Path(\"system.txt\"))\n",
    "print(f\"{A=} {B=}\")"
   ]
  },
  {
   "cell_type": "markdown",
   "metadata": {
    "vscode": {
     "languageId": "plaintext"
    }
   },
   "source": [
    "### **2. Matrix and Vector Operations (5 points)**"
   ]
  },
  {
   "cell_type": "markdown",
   "metadata": {
    "vscode": {
     "languageId": "plaintext"
    }
   },
   "source": [
    "Once you have successfully parsed the matrix and vector, complete the following exercises to manipulate and understand basic matrix and vector operations. Write Python functions for each of these tasks:"
   ]
  },
  {
   "cell_type": "markdown",
   "metadata": {
    "vscode": {
     "languageId": "plaintext"
    }
   },
   "source": [
    "#### 2.1. Determinant"
   ]
  },
  {
   "cell_type": "markdown",
   "metadata": {
    "vscode": {
     "languageId": "plaintext"
    }
   },
   "source": [
    "Write a function to compute the determinant of matrix $A$. Recall one of the formulae for the determinant of a $3x3$ matrix:\n",
    "$$ \\text{det}(A) = a_{11}(a_{22}a_{33} - a_{23}a_{32}) - a_{12}(a_{21}a_{33} - a_{23}a_{31}) + a_{13}(a_{21}a_{32} - a_{22}a_{31}) $$"
   ]
  },
  {
   "cell_type": "code",
   "execution_count": 63,
   "metadata": {},
   "outputs": [
    {
     "name": "stdout",
     "output_type": "stream",
     "text": [
      "determinant(A)=-6.0\n"
     ]
    }
   ],
   "source": [
    "def determinant(matrix: list[list[float]]) -> float:\n",
    "    #    1 2 3\n",
    "    #1   a b c\n",
    "    #2   d e f\n",
    "    #2   g h i\n",
    "    a = matrix[0][0]\n",
    "    b = matrix[0][1]\n",
    "    c = matrix[0][2]\n",
    "    d = matrix[1][0]\n",
    "    e = matrix[1][1]\n",
    "    f = matrix[1][2]\n",
    "    g = matrix[2][0]\n",
    "    h = matrix[2][1]\n",
    "    i = matrix[2][2]\n",
    "    \n",
    "    det = a * (e * i - f * h) - b * (d * i - f * g) + c * (d * h - e * g)\n",
    "    return det\n",
    "\n",
    "print(f\"{determinant(A)=}\")"
   ]
  },
  {
   "cell_type": "markdown",
   "metadata": {},
   "source": [
    "#### 2.2. Trace"
   ]
  },
  {
   "cell_type": "markdown",
   "metadata": {},
   "source": [
    "Compute the sum of the elements along the main diagonal of matrix $A$. For a matrix $A$, this is:\n",
    "$$ \\text{Trace}(A) = a_{11} + a_{22} + a_{33} $$"
   ]
  },
  {
   "cell_type": "code",
   "execution_count": 64,
   "metadata": {},
   "outputs": [
    {
     "name": "stdout",
     "output_type": "stream",
     "text": [
      "trace(A)=8.0\n"
     ]
    }
   ],
   "source": [
    "def trace(matrix: list[list[float]]) -> float:\n",
    "    return matrix[0][0] + matrix[1][1] + matrix[2][2]\n",
    "\n",
    "print(f\"{trace(A)=}\")"
   ]
  },
  {
   "cell_type": "markdown",
   "metadata": {},
   "source": [
    "#### 2.3. Vector norm"
   ]
  },
  {
   "cell_type": "markdown",
   "metadata": {},
   "source": [
    "Compute the Euclidean norm of vector $B$, which is:\n",
    "$$ ||B|| = \\sqrt{b_1^2 + b_2^2 + b_3^2} $$"
   ]
  },
  {
   "cell_type": "code",
   "execution_count": 65,
   "metadata": {},
   "outputs": [
    {
     "name": "stdout",
     "output_type": "stream",
     "text": [
      "norm(B)=7.0\n"
     ]
    }
   ],
   "source": [
    "import math\n",
    "def norm(vector: list[float]) -> float:\n",
    "    s = 0.0\n",
    "    for elem in vector:\n",
    "        s = elem * elem\n",
    "\n",
    "    return math.sqrt(s)\n",
    "\n",
    "\n",
    "\n",
    "print(f\"{norm(B)=}\")"
   ]
  },
  {
   "cell_type": "markdown",
   "metadata": {},
   "source": [
    "#### 2.4. Transpose of matrix"
   ]
  },
  {
   "cell_type": "markdown",
   "metadata": {},
   "source": [
    "Write a function to compute the transpose of matrix $A$. The transpose of a matrix $A$ is obtained by swapping its rows and columns.\n",
    "    "
   ]
  },
  {
   "cell_type": "code",
   "execution_count": 66,
   "metadata": {},
   "outputs": [
    {
     "name": "stdout",
     "output_type": "stream",
     "text": [
      "Matricea originala este A=[[7.0, 4.0, -1.0], [1.0, -1.0, 4.0], [3.0, 1.0, 2.0]]\n",
      "transpose(A)=[[7.0, 1.0, 3.0], [4.0, -1.0, 1.0], [-1.0, 4.0, 2.0]]\n"
     ]
    }
   ],
   "source": [
    "def transpose(matrix: list[list[float]]) -> list[list[float]]:\n",
    "    n = len(matrix)\n",
    "    m = len(matrix[0])\n",
    "\n",
    "    transpusa = [[0.0 for x in range(n)] for y in range(m)]\n",
    "\n",
    "    for i in range(n):\n",
    "        for j in range(m):\n",
    "            transpusa[j][i]=matrix[i][j]\n",
    "\n",
    "    return transpusa\n",
    "\n",
    "print(f\"Matricea originala este A={A}\")\n",
    "print(f\"{transpose(A)=}\")"
   ]
  },
  {
   "cell_type": "markdown",
   "metadata": {},
   "source": [
    "#### 2.5. Matrix-vector multiplication"
   ]
  },
  {
   "cell_type": "markdown",
   "metadata": {},
   "source": [
    "Write a function that multiplies matrix $A$ with vector $B$."
   ]
  },
  {
   "cell_type": "code",
   "execution_count": 73,
   "metadata": {},
   "outputs": [
    {
     "name": "stdout",
     "output_type": "stream",
     "text": [
      "Matricea A=[[7.0, 4.0, -1.0], [1.0, -1.0, 4.0], [3.0, 1.0, 2.0]]\n",
      "Vectorul B=[5.0, 6.0, 7.0]\n",
      "multiply(A, B)=[52.0, 27.0, 35.0]\n"
     ]
    }
   ],
   "source": [
    "def multiply(matrix: list[list[float]], vector: list[float]) -> list[float]:\n",
    "    n = len(matrix)\n",
    "    m = len(matrix[0])\n",
    "\n",
    "    rez = []\n",
    "\n",
    "    for i in range(n):\n",
    "        s = 0.0\n",
    "        for j in range(m):\n",
    "            s = s + matrix[i][j]*vector[j]\n",
    "\n",
    "        rez.append(s)\n",
    "    return rez\n",
    "\n",
    "print(f\"Matricea A={A}\")\n",
    "print(f\"Vectorul B={B}\")\n",
    "\n",
    "print(f\"{multiply(A, B)=}\")"
   ]
  },
  {
   "cell_type": "markdown",
   "metadata": {},
   "source": [
    "### **3. Solving using Cramer's Rule (1 point)**"
   ]
  },
  {
   "cell_type": "markdown",
   "metadata": {},
   "source": [
    "Now that you have explored basic matrix operations, solve the system of linear equations using Cramer's rule.\n",
    "\n",
    "**Cramer's Rule:**\n",
    "\n",
    "Cramer's rule allows you to solve for each unknown $x$, $y$, and $z$ using determinants. For example:\n",
    "$$ x = \\frac{\\text{det}(A_x)}{\\text{det}(A)}, \\quad y = \\frac{\\text{det}(A_y)}{\\text{det}(A)}, \\quad z = \\frac{\\text{det}(A_z)}{\\text{det}(A)} $$\n",
    "where $A_x$, $A_y$, and $A_z$ are matrices formed by replacing the respective column of matrix $A$ with vector $B$."
   ]
  },
  {
   "cell_type": "code",
   "execution_count": null,
   "metadata": {},
   "outputs": [
    {
     "name": "stdout",
     "output_type": "stream",
     "text": [
      "solve_cramer(A, B)=[-3.5, 8.5, 4.5]\n"
     ]
    }
   ],
   "source": [
    "def solve_cramer(matrix: list[list[float]], vector: list[float]) -> list[float]:\n",
    "    n = len(matrix)\n",
    "    m = len(matrix[0])\n",
    "    \n",
    "    rez = []\n",
    "    #am facut o copie pentru toate cele trei matrici\n",
    "    A_x = [row[:] for row in matrix]\n",
    "    A_y = [row[:] for row in matrix]\n",
    "    A_z = [row[:] for row in matrix]\n",
    "    #acum inlocuim coloanele respective cu B\n",
    "    for i in range(n):\n",
    "        A_x[i][0]=vector[i]\n",
    "    for i in range(n):\n",
    "        A_y[i][1]=vector[i]\n",
    "    for i in range(n):\n",
    "        A_z[i][2]=vector[i]\n",
    "\n",
    "\n",
    "    #calculam determinatii folosind functia de mai sus\n",
    "    det_A=determinant(A)     \n",
    "\n",
    "    det_Ax =determinant(A_x)\n",
    "    det_Ay =determinant(A_y)\n",
    "    det_Az =determinant(A_z)\n",
    "\n",
    "\n",
    "    #facem Cramer :P\n",
    "    x = det_Ax / det_A\n",
    "    y = det_Ay / det_A\n",
    "    z = det_Az / det_A\n",
    "\n",
    "    return[x ,y, z]\n",
    "\n",
    "print(f\"{solve_cramer(A, B)=}\")"
   ]
  },
  {
   "cell_type": "markdown",
   "metadata": {},
   "source": [
    "### **4. Solving using Inversion (3 points)**"
   ]
  },
  {
   "cell_type": "markdown",
   "metadata": {},
   "source": [
    "Finally, solve the system by computing the inverse of matrix $A$ and multiplying it by vector $B$.\n",
    "$$ A \\cdot X = B \\rightarrow X = A^{-1} \\cdot B $$\n",
    "**Adjugate Method for Matrix Inversion:**\n",
    "\n",
    "To find the inverse of matrix $ A $, you can use the adjugate method:\n",
    "$$ A^{-1} = \\frac{1}{\\text{det}(A)} \\times \\text{adj}(A) $$\n",
    "where $\\text{adj}(A)$ is the adjugate (or adjoint) matrix, which is the transpose of the cofactor matrix of $ A $.\n",
    "\n",
    "**Cofactor Matrix:**\n",
    "\n",
    "The cofactor matrix is a matrix where each element is replaced by its cofactor. The cofactor of an element $a_{ij}$ is given by:\n",
    "$$ (-1)^{i+j} \\times \\text{det}(M_{ij}) $$\n",
    "where $M_{ij}$ is the minor of element $a_{ij}$, which is the matrix obtained by removing the $i$-th row and $j$-th column from matrix $A$."
   ]
  },
  {
   "cell_type": "code",
   "execution_count": 84,
   "metadata": {},
   "outputs": [
    {
     "name": "stdout",
     "output_type": "stream",
     "text": [
      "solve(A, B)=[6792479.802631579, 2264048.3289473685, 4528600.131578947]\n"
     ]
    }
   ],
   "source": [
    "def det_minor(matrix: list[list[float]]) -> float:\n",
    "    a = matrix[0][0]\n",
    "    b = matrix[0][1]\n",
    "    c = matrix[1][0]\n",
    "    d = matrix[1][1]\n",
    "    \n",
    "    return a * d - b * c\n",
    "\n",
    "def minor(matrix: list[list[float]], randul: int, coloana: int) -> list[list[float]]:\n",
    "    n = len(matrix)\n",
    "    m = len(matrix[0])\n",
    "    matrice_minor = []\n",
    "\n",
    "    for i in range(n):\n",
    "        linie_noua = []\n",
    "        if i != randul:\n",
    "            for j in range(m):\n",
    "                if j != coloana:\n",
    "                    linie_noua.append(matrix[i][j])\n",
    "\n",
    "            matrice_minor.append(linie_noua)\n",
    "    return matrice_minor\n",
    "\n",
    "\n",
    "def cofactor(matrix: list[list[float]]) -> list[list[float]]:\n",
    "    n = len(matrix)\n",
    "    m = len(matrix[0])\n",
    "    \n",
    "    for i in range(n):\n",
    "        for j in range (m):\n",
    "            matrix[i][j]=det_minor(minor(matrix=matrix,randul=i,coloana=j))\n",
    "            if (i+j)%2!=0:\n",
    "                matrix[i][j]=matrix[i][j]*-1\n",
    "    return matrix\n",
    "\n",
    "def adjoint(matrix: list[list[float]]) -> list[list[float]]:\n",
    "    return transpose(cofactor(matrix))\n",
    "\n",
    "def solve(matrix: list[list[float]], vector: list[float]) -> list[float]:\n",
    "    n=len(matrix)\n",
    "    m=len(matrix[0])\n",
    "    \n",
    "    det=determinant(matrix)\n",
    "\n",
    "    adj=adjoint(matrix)\n",
    "\n",
    "    det_inv=1.0/det\n",
    "    inversa =[]\n",
    "    for i in range(n):\n",
    "        rand=[]\n",
    "        for j in range(m):\n",
    "            rand.append(adj[i][j]*det_inv)\n",
    "        inversa.append(rand)\n",
    "\n",
    "    X=multiply(inversa,vector)\n",
    "    return X\n",
    "\n",
    "\n",
    "\n",
    "print(f\"{solve(A, B)=}\")"
   ]
  }
 ],
 "metadata": {
  "kernelspec": {
   "display_name": "Python 3",
   "language": "python",
   "name": "python3"
  },
  "language_info": {
   "codemirror_mode": {
    "name": "ipython",
    "version": 3
   },
   "file_extension": ".py",
   "mimetype": "text/x-python",
   "name": "python",
   "nbconvert_exporter": "python",
   "pygments_lexer": "ipython3",
   "version": "3.13.7"
  }
 },
 "nbformat": 4,
 "nbformat_minor": 2
}
