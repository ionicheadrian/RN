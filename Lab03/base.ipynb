{
 "cells": [
  {
   "cell_type": "code",
   "execution_count": 1,
   "id": "e4687354",
   "metadata": {
    "_cell_guid": "b1076dfc-b9ad-4769-8c92-a6c4dae69d19",
    "_uuid": "8f2839f25d086af736a60e9eeb907d3b93b6e0e5",
    "execution": {
     "iopub.execute_input": "2025-10-06T13:25:56.928110Z",
     "iopub.status.busy": "2025-10-06T13:25:56.927828Z",
     "iopub.status.idle": "2025-10-06T13:25:58.843131Z",
     "shell.execute_reply": "2025-10-06T13:25:58.842272Z"
    },
    "papermill": {
     "duration": 1.920785,
     "end_time": "2025-10-06T13:25:58.844911",
     "exception": false,
     "start_time": "2025-10-06T13:25:56.924126",
     "status": "completed"
    },
    "tags": []
   },
   "outputs": [],
   "source": [
    "import pickle\n",
    "import os\n",
    "import pandas as pd\n",
    "import numpy as np\n"
   ]
  },
  {
   "cell_type": "code",
   "execution_count": null,
   "id": "f4ae562b",
   "metadata": {
    "execution": {
     "iopub.execute_input": "2025-10-06T13:25:58.850724Z",
     "iopub.status.busy": "2025-10-06T13:25:58.850288Z",
     "iopub.status.idle": "2025-10-06T13:25:59.377505Z",
     "shell.execute_reply": "2025-10-06T13:25:59.376596Z"
    },
    "papermill": {
     "duration": 0.531726,
     "end_time": "2025-10-06T13:25:59.379165",
     "exception": false,
     "start_time": "2025-10-06T13:25:58.847439",
     "status": "completed"
    },
    "tags": []
   },
   "outputs": [],
   "source": [
    "train_file = \"/kaggle/input/fii-nn-2025-homework-2/extended_mnist_train.pkl\"\n",
    "test_file = \"/kaggle/input/fii-nn-2025-homework-2/extended_mnist_test.pkl\"\n",
    "\n",
    "with open(train_file, \"rb\") as fp:\n",
    "    train = pickle.load(fp)\n",
    "\n",
    "with open(test_file, \"rb\") as fp:\n",
    "    test = pickle.load(fp)"
   ]
  },
  {
   "cell_type": "code",
   "execution_count": 3,
   "id": "07e26e75",
   "metadata": {
    "execution": {
     "iopub.execute_input": "2025-10-06T13:25:59.384534Z",
     "iopub.status.busy": "2025-10-06T13:25:59.384192Z",
     "iopub.status.idle": "2025-10-06T13:25:59.479972Z",
     "shell.execute_reply": "2025-10-06T13:25:59.479225Z"
    },
    "papermill": {
     "duration": 0.100101,
     "end_time": "2025-10-06T13:25:59.481530",
     "exception": false,
     "start_time": "2025-10-06T13:25:59.381429",
     "status": "completed"
    },
    "tags": []
   },
   "outputs": [],
   "source": [
    "train_data = []\n",
    "train_labels = []\n",
    "for image, label in train:\n",
    "    train_data.append(image.flatten())\n",
    "    train_labels.append(label)\n"
   ]
  },
  {
   "cell_type": "code",
   "execution_count": 4,
   "id": "5b718357",
   "metadata": {
    "execution": {
     "iopub.execute_input": "2025-10-06T13:25:59.487299Z",
     "iopub.status.busy": "2025-10-06T13:25:59.486416Z",
     "iopub.status.idle": "2025-10-06T13:25:59.511635Z",
     "shell.execute_reply": "2025-10-06T13:25:59.510449Z"
    },
    "papermill": {
     "duration": 0.029523,
     "end_time": "2025-10-06T13:25:59.513213",
     "exception": false,
     "start_time": "2025-10-06T13:25:59.483690",
     "status": "completed"
    },
    "tags": []
   },
   "outputs": [],
   "source": [
    "test_data = []\n",
    "for image, label in test:\n",
    "    test_data.append(image.flatten())\n"
   ]
  },
  {
   "cell_type": "code",
   "execution_count": 5,
   "id": "38948da9",
   "metadata": {
    "execution": {
     "iopub.execute_input": "2025-10-06T13:25:59.518680Z",
     "iopub.status.busy": "2025-10-06T13:25:59.517953Z",
     "iopub.status.idle": "2025-10-06T13:26:06.988688Z",
     "shell.execute_reply": "2025-10-06T13:26:06.987637Z"
    },
    "papermill": {
     "duration": 7.474884,
     "end_time": "2025-10-06T13:26:06.990180",
     "exception": false,
     "start_time": "2025-10-06T13:25:59.515296",
     "status": "completed"
    },
    "tags": []
   },
   "outputs": [
    {
     "name": "stdout",
     "output_type": "stream",
     "text": [
      "Iteration 1, loss = 137752.80018828\n",
      "Iteration 2, loss = 145223.46597493\n",
      "Iteration 3, loss = 145136.35835661\n",
      "Iteration 4, loss = 145049.30311513\n",
      "Iteration 5, loss = 144962.30041570\n",
      "Iteration 6, loss = 144875.34986284\n",
      "Iteration 7, loss = 144788.45135822\n",
      "Iteration 8, loss = 144701.60512960\n",
      "Iteration 9, loss = 144614.81068528\n",
      "Iteration 10, loss = 144528.06842535\n",
      "Iteration 11, loss = 144441.37829004\n",
      "Iteration 12, loss = 144354.74019188\n",
      "Training loss did not improve more than tol=0.000100 for 10 consecutive epochs. Stopping.\n"
     ]
    },
    {
     "data": {
      "text/plain": [
       "0.11236666666666667"
      ]
     },
     "execution_count": 5,
     "metadata": {},
     "output_type": "execute_result"
    }
   ],
   "source": [
    "# You must use NumPy to implement from scratch\n",
    "from sklearn.neural_network import MLPClassifier\n",
    "\n",
    "mlp = MLPClassifier(hidden_layer_sizes=(40,),\n",
    "    alpha=1e-4,\n",
    "    solver=\"sgd\",\n",
    "    verbose=10,\n",
    "    random_state=1,\n",
    "    learning_rate_init=0.2\n",
    ")\n",
    "mlp.fit(train_data, train_labels)\n",
    "\n",
    "mlp.score(train_data, train_labels)\n"
   ]
  },
  {
   "cell_type": "code",
   "execution_count": 6,
   "id": "a4d95c99",
   "metadata": {
    "execution": {
     "iopub.execute_input": "2025-10-06T13:26:06.997597Z",
     "iopub.status.busy": "2025-10-06T13:26:06.996543Z",
     "iopub.status.idle": "2025-10-06T13:26:07.048177Z",
     "shell.execute_reply": "2025-10-06T13:26:07.047463Z"
    },
    "papermill": {
     "duration": 0.056718,
     "end_time": "2025-10-06T13:26:07.049784",
     "exception": false,
     "start_time": "2025-10-06T13:26:06.993066",
     "status": "completed"
    },
    "tags": []
   },
   "outputs": [],
   "source": [
    "predictions = mlp.predict(test_data)\n"
   ]
  },
  {
   "cell_type": "code",
   "execution_count": 7,
   "id": "e3d3ecf1",
   "metadata": {
    "execution": {
     "iopub.execute_input": "2025-10-06T13:26:07.056765Z",
     "iopub.status.busy": "2025-10-06T13:26:07.056424Z",
     "iopub.status.idle": "2025-10-06T13:26:07.101575Z",
     "shell.execute_reply": "2025-10-06T13:26:07.100567Z"
    },
    "papermill": {
     "duration": 0.050341,
     "end_time": "2025-10-06T13:26:07.103224",
     "exception": false,
     "start_time": "2025-10-06T13:26:07.052883",
     "status": "completed"
    },
    "tags": []
   },
   "outputs": [],
   "source": [
    "# This is how you prepare a submission for the competition\n",
    "predictions_csv = {\n",
    "    \"ID\": [],\n",
    "    \"target\": [],\n",
    "}\n",
    "\n",
    "for i, label in enumerate(predictions):\n",
    "    predictions_csv[\"ID\"].append(i)\n",
    "    predictions_csv[\"target\"].append(label)\n",
    "\n",
    "df = pd.DataFrame(predictions_csv)\n",
    "df.to_csv(\"submission.csv\", index=False)"
   ]
  }
 ],
 "metadata": {
  "kaggle": {
   "accelerator": "none",
   "dataSources": [
    {
     "databundleVersionId": 13767536,
     "sourceId": 115341,
     "sourceType": "competition"
    }
   ],
   "dockerImageVersionId": 31089,
   "isGpuEnabled": false,
   "isInternetEnabled": true,
   "language": "python",
   "sourceType": "notebook"
  },
  "kernelspec": {
   "display_name": "Python 3",
   "language": "python",
   "name": "python3"
  },
  "language_info": {
   "codemirror_mode": {
    "name": "ipython",
    "version": 3
   },
   "file_extension": ".py",
   "mimetype": "text/x-python",
   "name": "python",
   "nbconvert_exporter": "python",
   "pygments_lexer": "ipython3",
   "version": "3.11.13"
  },
  "papermill": {
   "default_parameters": {},
   "duration": 16.108977,
   "end_time": "2025-10-06T13:26:07.825612",
   "environment_variables": {},
   "exception": null,
   "input_path": "__notebook__.ipynb",
   "output_path": "__notebook__.ipynb",
   "parameters": {},
   "start_time": "2025-10-06T13:25:51.716635",
   "version": "2.6.0"
  }
 },
 "nbformat": 4,
 "nbformat_minor": 5
}
