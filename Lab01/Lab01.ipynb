{
 "cells": [
  {
   "cell_type": "markdown",
   "metadata": {
    "colab_type": "text",
    "id": "view-in-github"
   },
   "source": [
    "<a href=\"https://colab.research.google.com/github/Tensor-Reloaded/Neural-Networks-Template-2025/blob/main/Lab01/Lab01.ipynb\" target=\"_parent\"><img src=\"https://colab.research.google.com/assets/colab-badge.svg\" alt=\"Open In Colab\"/></a>"
   ]
  },
  {
   "cell_type": "markdown",
   "metadata": {
    "id": "_a3mzLZrN76-"
   },
   "source": [
    "# Python fundamentals"
   ]
  },
  {
   "cell_type": "markdown",
   "metadata": {
    "id": "gXqYekvjN76-"
   },
   "source": [
    "### Data types"
   ]
  },
  {
   "cell_type": "code",
   "execution_count": null,
   "metadata": {
    "colab": {
     "base_uri": "https://localhost:8080/"
    },
    "execution": {
     "iopub.execute_input": "2024-10-02T11:44:03.951372Z",
     "iopub.status.busy": "2024-10-02T11:44:03.950493Z",
     "iopub.status.idle": "2024-10-02T11:44:03.983787Z",
     "shell.execute_reply": "2024-10-02T11:44:03.982322Z",
     "shell.execute_reply.started": "2024-10-02T11:44:03.951322Z"
    },
    "id": "3MhBylJEN76_",
    "outputId": "c419c283-d10e-411e-eebe-ba4135a6efaf",
    "trusted": true
   },
   "outputs": [],
   "source": [
    "a = 5\n",
    "print(type(a))"
   ]
  },
  {
   "cell_type": "code",
   "execution_count": null,
   "metadata": {
    "colab": {
     "base_uri": "https://localhost:8080/"
    },
    "execution": {
     "iopub.execute_input": "2024-10-02T11:44:36.10948Z",
     "iopub.status.busy": "2024-10-02T11:44:36.109006Z",
     "iopub.status.idle": "2024-10-02T11:44:36.117591Z",
     "shell.execute_reply": "2024-10-02T11:44:36.116327Z",
     "shell.execute_reply.started": "2024-10-02T11:44:36.109437Z"
    },
    "id": "wodi_gU9N76_",
    "outputId": "126bca12-4c64-43dc-9a25-fbaca73d0f3c",
    "trusted": true
   },
   "outputs": [],
   "source": [
    "a = 5.0\n",
    "print(type(a))"
   ]
  },
  {
   "cell_type": "code",
   "execution_count": null,
   "metadata": {
    "colab": {
     "base_uri": "https://localhost:8080/"
    },
    "execution": {
     "iopub.execute_input": "2024-10-02T11:45:05.271206Z",
     "iopub.status.busy": "2024-10-02T11:45:05.270755Z",
     "iopub.status.idle": "2024-10-02T11:45:05.279648Z",
     "shell.execute_reply": "2024-10-02T11:45:05.278196Z",
     "shell.execute_reply.started": "2024-10-02T11:45:05.27116Z"
    },
    "id": "tHznwFqRN77A",
    "outputId": "0756c44d-d0bb-4633-a763-502f8dba2b56",
    "trusted": true
   },
   "outputs": [],
   "source": [
    "a = '5'\n",
    "print(type(a))"
   ]
  },
  {
   "cell_type": "code",
   "execution_count": null,
   "metadata": {
    "colab": {
     "base_uri": "https://localhost:8080/"
    },
    "execution": {
     "iopub.execute_input": "2024-10-02T11:45:06.796862Z",
     "iopub.status.busy": "2024-10-02T11:45:06.795423Z",
     "iopub.status.idle": "2024-10-02T11:45:06.804179Z",
     "shell.execute_reply": "2024-10-02T11:45:06.802988Z",
     "shell.execute_reply.started": "2024-10-02T11:45:06.796802Z"
    },
    "id": "djbJqdr6N77A",
    "outputId": "dbbc12a5-3d3e-43c0-fd1b-8d7d633fcd16",
    "trusted": true
   },
   "outputs": [],
   "source": [
    "a = True\n",
    "print(type(a))"
   ]
  },
  {
   "cell_type": "markdown",
   "metadata": {
    "id": "QGqwl2wbN77A"
   },
   "source": [
    "## Containers"
   ]
  },
  {
   "cell_type": "code",
   "execution_count": null,
   "metadata": {
    "colab": {
     "base_uri": "https://localhost:8080/"
    },
    "execution": {
     "iopub.execute_input": "2024-10-02T11:49:29.586322Z",
     "iopub.status.busy": "2024-10-02T11:49:29.58574Z",
     "iopub.status.idle": "2024-10-02T11:49:29.594511Z",
     "shell.execute_reply": "2024-10-02T11:49:29.592585Z",
     "shell.execute_reply.started": "2024-10-02T11:49:29.586194Z"
    },
    "id": "lZIuCa6RN77A",
    "outputId": "04899e4e-9d3a-43d7-bcfd-310e094f5043",
    "trusted": true
   },
   "outputs": [],
   "source": [
    "a_list = [1, 2, 2, 3.0, '5']\n",
    "print(a_list)\n",
    "print(type(a_list))"
   ]
  },
  {
   "cell_type": "code",
   "execution_count": null,
   "metadata": {
    "colab": {
     "base_uri": "https://localhost:8080/"
    },
    "execution": {
     "iopub.execute_input": "2024-10-02T11:49:31.00734Z",
     "iopub.status.busy": "2024-10-02T11:49:31.006854Z",
     "iopub.status.idle": "2024-10-02T11:49:31.015648Z",
     "shell.execute_reply": "2024-10-02T11:49:31.014282Z",
     "shell.execute_reply.started": "2024-10-02T11:49:31.007296Z"
    },
    "id": "a0KAR2ExN77B",
    "outputId": "e0499764-c938-4094-c78e-5f230bf96fd5",
    "trusted": true
   },
   "outputs": [],
   "source": [
    "a_set = set(a_list)\n",
    "print(a_set)\n",
    "print(type(a_set))\n",
    "a_set = {1, 2, 3, 4}\n",
    "print(a_set)"
   ]
  },
  {
   "cell_type": "code",
   "execution_count": null,
   "metadata": {
    "_cell_guid": "b1076dfc-b9ad-4769-8c92-a6c4dae69d19",
    "_uuid": "8f2839f25d086af736a60e9eeb907d3b93b6e0e5",
    "colab": {
     "base_uri": "https://localhost:8080/"
    },
    "execution": {
     "iopub.execute_input": "2024-10-02T11:50:25.928643Z",
     "iopub.status.busy": "2024-10-02T11:50:25.927682Z",
     "iopub.status.idle": "2024-10-02T11:50:25.936764Z",
     "shell.execute_reply": "2024-10-02T11:50:25.934781Z",
     "shell.execute_reply.started": "2024-10-02T11:50:25.928589Z"
    },
    "id": "Dmtitx5PN77B",
    "outputId": "258ea10d-b517-4a1b-c310-c205e1d2bd49",
    "trusted": true
   },
   "outputs": [],
   "source": [
    "a_dict = {\n",
    "    1: 'unu',\n",
    "    'doi': 2,\n",
    "    3.0: a_set\n",
    "}\n",
    "print(\"Keys:\\t\", list(a_dict.keys()))\n",
    "print(\"Values:\\t\", list(a_dict.values()))\n",
    "print(a_dict)\n",
    "print(type(a_dict))"
   ]
  },
  {
   "cell_type": "markdown",
   "metadata": {
    "id": "EE6My2IjN77B"
   },
   "source": [
    "## Functions"
   ]
  },
  {
   "cell_type": "code",
   "execution_count": null,
   "metadata": {
    "colab": {
     "base_uri": "https://localhost:8080/"
    },
    "execution": {
     "iopub.execute_input": "2024-10-02T11:51:31.894016Z",
     "iopub.status.busy": "2024-10-02T11:51:31.893551Z",
     "iopub.status.idle": "2024-10-02T11:51:31.904305Z",
     "shell.execute_reply": "2024-10-02T11:51:31.902815Z",
     "shell.execute_reply.started": "2024-10-02T11:51:31.893971Z"
    },
    "id": "nX8fadHKN77B",
    "outputId": "056ddaff-0d7b-4032-dd6d-de1da53b3b26",
    "trusted": true
   },
   "outputs": [],
   "source": [
    "def add_two_values(a, b):\n",
    "    return a + b\n",
    "\n",
    "add_two_values(5, 6)"
   ]
  },
  {
   "cell_type": "code",
   "execution_count": null,
   "metadata": {
    "colab": {
     "base_uri": "https://localhost:8080/"
    },
    "execution": {
     "iopub.execute_input": "2024-10-02T11:52:16.545022Z",
     "iopub.status.busy": "2024-10-02T11:52:16.544522Z",
     "iopub.status.idle": "2024-10-02T11:52:16.554614Z",
     "shell.execute_reply": "2024-10-02T11:52:16.553091Z",
     "shell.execute_reply.started": "2024-10-02T11:52:16.544976Z"
    },
    "id": "ZsQjTrEAN77B",
    "outputId": "d6865f62-7636-4878-996a-95305ee81623",
    "trusted": true
   },
   "outputs": [],
   "source": [
    "def multiply(a: float, b: float) -> float:\n",
    "    return a * b\n",
    "\n",
    "multiply(4.0, 5.0)"
   ]
  },
  {
   "cell_type": "code",
   "execution_count": null,
   "metadata": {
    "colab": {
     "base_uri": "https://localhost:8080/",
     "height": 35
    },
    "execution": {
     "iopub.execute_input": "2024-10-02T11:52:50.76403Z",
     "iopub.status.busy": "2024-10-02T11:52:50.763543Z",
     "iopub.status.idle": "2024-10-02T11:52:50.773893Z",
     "shell.execute_reply": "2024-10-02T11:52:50.772157Z",
     "shell.execute_reply.started": "2024-10-02T11:52:50.763985Z"
    },
    "id": "7Nw6RLGEN77B",
    "outputId": "c3056dc5-d844-447a-e7f3-5bc2bd505b7d",
    "trusted": true
   },
   "outputs": [],
   "source": [
    "multiply(\"AB\", 2)"
   ]
  },
  {
   "cell_type": "markdown",
   "metadata": {
    "id": "0s-6p0HkN77B"
   },
   "source": [
    "# Numpy"
   ]
  },
  {
   "cell_type": "markdown",
   "metadata": {
    "id": "CCnrJDOSN77C"
   },
   "source": [
    "Check: https://numpy.org/doc/stable/user/absolute_beginners.html"
   ]
  },
  {
   "cell_type": "markdown",
   "metadata": {
    "id": "GFKeqvW9N77C"
   },
   "source": [
    "### Installing 3rd party libraries"
   ]
  },
  {
   "cell_type": "code",
   "execution_count": null,
   "metadata": {
    "colab": {
     "base_uri": "https://localhost:8080/"
    },
    "execution": {
     "iopub.execute_input": "2024-10-02T12:03:47.809536Z",
     "iopub.status.busy": "2024-10-02T12:03:47.809067Z",
     "iopub.status.idle": "2024-10-02T12:04:02.676853Z",
     "shell.execute_reply": "2024-10-02T12:04:02.675064Z",
     "shell.execute_reply.started": "2024-10-02T12:03:47.809488Z"
    },
    "id": "Do-AheAqN77C",
    "outputId": "8031f61d-3ec7-4d08-b4a8-62e52760ebe5",
    "trusted": true
   },
   "outputs": [],
   "source": [
    "%pip install numpy"
   ]
  },
  {
   "cell_type": "code",
   "execution_count": null,
   "metadata": {
    "colab": {
     "base_uri": "https://localhost:8080/"
    },
    "execution": {
     "iopub.execute_input": "2024-10-02T12:04:04.699355Z",
     "iopub.status.busy": "2024-10-02T12:04:04.698732Z",
     "iopub.status.idle": "2024-10-02T12:04:19.723462Z",
     "shell.execute_reply": "2024-10-02T12:04:19.721813Z",
     "shell.execute_reply.started": "2024-10-02T12:04:04.699297Z"
    },
    "id": "4p6EbtLjN77C",
    "outputId": "cb194a4d-7254-4ea1-e445-f9ea2936b94c",
    "trusted": true
   },
   "outputs": [],
   "source": [
    "%pip install timed-decorator"
   ]
  },
  {
   "cell_type": "code",
   "execution_count": null,
   "metadata": {
    "execution": {
     "iopub.execute_input": "2024-10-02T12:19:17.82417Z",
     "iopub.status.busy": "2024-10-02T12:19:17.823585Z",
     "iopub.status.idle": "2024-10-02T12:19:17.830611Z",
     "shell.execute_reply": "2024-10-02T12:19:17.829095Z",
     "shell.execute_reply.started": "2024-10-02T12:19:17.824114Z"
    },
    "id": "1fJntYrkN77C",
    "trusted": true
   },
   "outputs": [],
   "source": [
    "import numpy as np\n",
    "from math import sqrt\n",
    "from timed_decorator.simple_timed import timed"
   ]
  },
  {
   "cell_type": "code",
   "execution_count": null,
   "metadata": {
    "colab": {
     "base_uri": "https://localhost:8080/"
    },
    "execution": {
     "iopub.execute_input": "2024-10-02T12:08:13.212593Z",
     "iopub.status.busy": "2024-10-02T12:08:13.211484Z",
     "iopub.status.idle": "2024-10-02T12:08:13.223296Z",
     "shell.execute_reply": "2024-10-02T12:08:13.221925Z",
     "shell.execute_reply.started": "2024-10-02T12:08:13.212525Z"
    },
    "id": "6tJVb2RVN77C",
    "outputId": "e8d76a18-5a5a-4e5b-f870-c3ddf83f8212",
    "trusted": true
   },
   "outputs": [],
   "source": [
    "x = np.random.uniform(low=-5.5, high=5.5, size=(50,))\n",
    "x"
   ]
  },
  {
   "cell_type": "code",
   "execution_count": null,
   "metadata": {
    "colab": {
     "base_uri": "https://localhost:8080/"
    },
    "execution": {
     "iopub.execute_input": "2024-10-02T12:08:20.885553Z",
     "iopub.status.busy": "2024-10-02T12:08:20.88504Z",
     "iopub.status.idle": "2024-10-02T12:08:20.895173Z",
     "shell.execute_reply": "2024-10-02T12:08:20.894109Z",
     "shell.execute_reply.started": "2024-10-02T12:08:20.885509Z"
    },
    "id": "A1lC4YMON77C",
    "outputId": "2d6be9f9-02c7-41ce-b85e-bbe2316bd3b9",
    "trusted": true
   },
   "outputs": [],
   "source": [
    "x > 0"
   ]
  },
  {
   "cell_type": "code",
   "execution_count": null,
   "metadata": {
    "colab": {
     "base_uri": "https://localhost:8080/"
    },
    "execution": {
     "iopub.execute_input": "2024-10-02T12:08:31.800889Z",
     "iopub.status.busy": "2024-10-02T12:08:31.800418Z",
     "iopub.status.idle": "2024-10-02T12:08:31.81006Z",
     "shell.execute_reply": "2024-10-02T12:08:31.80875Z",
     "shell.execute_reply.started": "2024-10-02T12:08:31.800844Z"
    },
    "id": "cSi7wI_jN77C",
    "outputId": "ef7f51d5-3df0-4f6d-e51f-51cca3c2964e",
    "trusted": true
   },
   "outputs": [],
   "source": [
    "x[x > 0]"
   ]
  },
  {
   "cell_type": "code",
   "execution_count": null,
   "metadata": {
    "colab": {
     "base_uri": "https://localhost:8080/"
    },
    "execution": {
     "iopub.execute_input": "2024-10-02T12:08:47.364834Z",
     "iopub.status.busy": "2024-10-02T12:08:47.36438Z",
     "iopub.status.idle": "2024-10-02T12:08:47.374292Z",
     "shell.execute_reply": "2024-10-02T12:08:47.372842Z",
     "shell.execute_reply.started": "2024-10-02T12:08:47.364789Z"
    },
    "id": "9WcCYeb4N77C",
    "outputId": "e7788b5f-f4f7-445c-e343-344331d6bc8c",
    "trusted": true
   },
   "outputs": [],
   "source": [
    "list(x)"
   ]
  },
  {
   "cell_type": "markdown",
   "metadata": {
    "id": "rLM-vfVDN77C"
   },
   "source": [
    "## Comparing numpy arrays to python lists"
   ]
  },
  {
   "cell_type": "code",
   "execution_count": null,
   "metadata": {
    "colab": {
     "base_uri": "https://localhost:8080/"
    },
    "execution": {
     "iopub.execute_input": "2024-10-02T12:23:10.974691Z",
     "iopub.status.busy": "2024-10-02T12:23:10.974197Z",
     "iopub.status.idle": "2024-10-02T12:23:11.440227Z",
     "shell.execute_reply": "2024-10-02T12:23:11.43898Z",
     "shell.execute_reply.started": "2024-10-02T12:23:10.974645Z"
    },
    "id": "rQIw6SrzN77C",
    "outputId": "177255e1-765f-4e9b-d7bd-8dde1ad96e7f",
    "trusted": true
   },
   "outputs": [],
   "source": [
    "@timed(show_args=True, use_seconds=True)\n",
    "def normalize_np(x: np.ndarray) -> np.ndarray:\n",
    "    mean = np.mean(x)\n",
    "    std = np.std(x)\n",
    "    return (x - mean) / std\n",
    "\n",
    "@timed(show_args=True, use_seconds=True)\n",
    "def normalize_py(x: list) -> list:\n",
    "    mean = sum(x) / len(x)\n",
    "    var = sum([(i - mean) ** 2 for i in x]) / len(x)\n",
    "    std = sqrt(var)\n",
    "    return [(i - mean) / std for i in x]\n",
    "\n",
    "x = np.random.uniform(low=-5.5, high=5.5, size=(50000,)).astype(np.float64)\n",
    "y = list(x)\n",
    "normalized_x = normalize_np(x)\n",
    "normalized_y = normalize_py(y)\n",
    "assert np.allclose(normalized_x, normalized_y)"
   ]
  },
  {
   "cell_type": "markdown",
   "metadata": {
    "id": "SsAyhEIFN77C"
   },
   "source": [
    "#### Python is slower than numpy in general"
   ]
  },
  {
   "cell_type": "code",
   "execution_count": null,
   "metadata": {
    "colab": {
     "base_uri": "https://localhost:8080/"
    },
    "execution": {
     "iopub.execute_input": "2024-10-02T12:25:52.182556Z",
     "iopub.status.busy": "2024-10-02T12:25:52.182079Z",
     "iopub.status.idle": "2024-10-02T12:25:53.975332Z",
     "shell.execute_reply": "2024-10-02T12:25:53.974039Z",
     "shell.execute_reply.started": "2024-10-02T12:25:52.182507Z"
    },
    "id": "lnHnoOpIN77C",
    "outputId": "e547c993-2cde-460a-d162-cb3aa0e34c49",
    "trusted": true
   },
   "outputs": [],
   "source": [
    "%%timeit\n",
    "\n",
    "np.min(x)"
   ]
  },
  {
   "cell_type": "code",
   "execution_count": null,
   "metadata": {
    "colab": {
     "base_uri": "https://localhost:8080/"
    },
    "execution": {
     "iopub.execute_input": "2024-10-02T12:25:57.128432Z",
     "iopub.status.busy": "2024-10-02T12:25:57.127966Z",
     "iopub.status.idle": "2024-10-02T12:25:59.452513Z",
     "shell.execute_reply": "2024-10-02T12:25:59.451406Z",
     "shell.execute_reply.started": "2024-10-02T12:25:57.128388Z"
    },
    "id": "SX9aZKnFN77C",
    "outputId": "bef37356-5bfe-46f2-f5df-bc1097495b70",
    "trusted": true
   },
   "outputs": [],
   "source": [
    "%%timeit\n",
    "\n",
    "min(y)"
   ]
  },
  {
   "cell_type": "code",
   "execution_count": null,
   "metadata": {
    "execution": {
     "iopub.execute_input": "2024-10-02T12:26:42.992272Z",
     "iopub.status.busy": "2024-10-02T12:26:42.991777Z",
     "iopub.status.idle": "2024-10-02T12:26:42.998492Z",
     "shell.execute_reply": "2024-10-02T12:26:42.997284Z",
     "shell.execute_reply.started": "2024-10-02T12:26:42.992226Z"
    },
    "id": "ionViVvwN77C",
    "trusted": true
   },
   "outputs": [],
   "source": [
    "a = np.random.uniform(low=-5.5, high=5.5, size=(50,)).astype(np.float64)\n",
    "b = list(a)\n"
   ]
  },
  {
   "cell_type": "code",
   "execution_count": null,
   "metadata": {
    "colab": {
     "base_uri": "https://localhost:8080/"
    },
    "execution": {
     "iopub.execute_input": "2024-10-02T12:26:43.457362Z",
     "iopub.status.busy": "2024-10-02T12:26:43.456859Z",
     "iopub.status.idle": "2024-10-02T12:26:48.16646Z",
     "shell.execute_reply": "2024-10-02T12:26:48.165185Z",
     "shell.execute_reply.started": "2024-10-02T12:26:43.457317Z"
    },
    "id": "d0-CmmEnN77C",
    "outputId": "f2317137-6a65-4627-b837-b47c5256fcdd",
    "trusted": true
   },
   "outputs": [],
   "source": [
    "%%timeit\n",
    "\n",
    "np.min(a)"
   ]
  },
  {
   "cell_type": "code",
   "execution_count": null,
   "metadata": {
    "colab": {
     "base_uri": "https://localhost:8080/"
    },
    "execution": {
     "iopub.execute_input": "2024-10-02T12:26:48.168601Z",
     "iopub.status.busy": "2024-10-02T12:26:48.168224Z",
     "iopub.status.idle": "2024-10-02T12:26:50.625046Z",
     "shell.execute_reply": "2024-10-02T12:26:50.62365Z",
     "shell.execute_reply.started": "2024-10-02T12:26:48.168545Z"
    },
    "id": "qwAy0mmKN77C",
    "outputId": "2ea05bbc-c747-45a8-d779-554abed80f66",
    "trusted": true
   },
   "outputs": [],
   "source": [
    "%%timeit\n",
    "\n",
    "min(b)"
   ]
  },
  {
   "cell_type": "markdown",
   "metadata": {
    "id": "blcMfOKaN77D"
   },
   "source": [
    "## Inplace operations\n",
    "Use them when you can safely modify the input"
   ]
  },
  {
   "cell_type": "code",
   "execution_count": null,
   "metadata": {
    "execution": {
     "iopub.execute_input": "2024-10-02T12:31:42.026297Z",
     "iopub.status.busy": "2024-10-02T12:31:42.025848Z",
     "iopub.status.idle": "2024-10-02T12:31:42.032887Z",
     "shell.execute_reply": "2024-10-02T12:31:42.031665Z",
     "shell.execute_reply.started": "2024-10-02T12:31:42.026254Z"
    },
    "id": "_HxkpvD7N77D",
    "trusted": true
   },
   "outputs": [],
   "source": [
    "@timed(show_args=True, use_seconds=True)\n",
    "def normalize_np_(x: np.ndarray) -> np.ndarray:\n",
    "    mean = np.mean(x)\n",
    "    std = np.std(x)\n",
    "    x -= mean\n",
    "    x /= std\n",
    "    return x"
   ]
  },
  {
   "cell_type": "code",
   "execution_count": null,
   "metadata": {
    "colab": {
     "base_uri": "https://localhost:8080/"
    },
    "execution": {
     "iopub.execute_input": "2024-10-02T12:31:42.184088Z",
     "iopub.status.busy": "2024-10-02T12:31:42.183658Z",
     "iopub.status.idle": "2024-10-02T12:31:42.643647Z",
     "shell.execute_reply": "2024-10-02T12:31:42.642302Z",
     "shell.execute_reply.started": "2024-10-02T12:31:42.184046Z"
    },
    "id": "fmN8W0qGN77D",
    "outputId": "fad7ea35-d4bb-4f1f-86a7-0bd95adcd1dc",
    "trusted": true
   },
   "outputs": [],
   "source": [
    "x = np.random.rand(1000, 20000)\n",
    "\n",
    "# This creates a copy\n",
    "y = normalize_np(x)\n",
    "assert not np.allclose(x, y)\n",
    "\n",
    "# Inplace operations modify the original array! But they are faster and use less memory.\n",
    "z = normalize_np_(x)\n",
    "assert np.array_equal(x, z)"
   ]
  }
 ],
 "metadata": {
  "colab": {
   "include_colab_link": true,
   "name": "RN-2024-Lab01",
   "provenance": []
  },
  "kaggle": {
   "accelerator": "none",
   "dataSources": [],
   "dockerImageVersionId": 30775,
   "isGpuEnabled": false,
   "isInternetEnabled": true,
   "language": "python",
   "sourceType": "notebook"
  },
  "kernelspec": {
   "display_name": "Python 3",
   "language": "python",
   "name": "python3"
  },
  "language_info": {
   "codemirror_mode": {
    "name": "ipython",
    "version": 3
   },
   "file_extension": ".py",
   "mimetype": "text/x-python",
   "name": "python",
   "nbconvert_exporter": "python",
   "pygments_lexer": "ipython3",
   "version": "3.13.7"
  }
 },
 "nbformat": 4,
 "nbformat_minor": 0
}
